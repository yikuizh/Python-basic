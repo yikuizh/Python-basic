{
 "cells": [
  {
   "cell_type": "markdown",
   "metadata": {},
   "source": [
    "# python特殊方法：\n",
    "\n",
    "任何的实例都有特殊的__str__()方法，主要用于print\n",
    "把任意变量变成str格式，按任意方法打印实例\n",
    "特殊方法：\n",
    "1.主要定义在class中\n",
    "2.不需要直接调用"
   ]
  },
  {
   "cell_type": "markdown",
   "metadata": {},
   "source": [
    "# Exercise 1: 把一个类的实例变成__str__ ；__str__的用法，return+....."
   ]
  },
  {
   "cell_type": "code",
   "execution_count": 1,
   "metadata": {
    "collapsed": true
   },
   "outputs": [
    {
     "ename": "SyntaxError",
     "evalue": "invalid syntax (<ipython-input-1-07ae7b1fb180>, line 7)",
     "output_type": "error",
     "traceback": [
      "\u001b[1;36m  File \u001b[1;32m\"<ipython-input-1-07ae7b1fb180>\"\u001b[1;36m, line \u001b[1;32m7\u001b[0m\n\u001b[1;33m    >>> p = Person('Bob', 'male')\u001b[0m\n\u001b[1;37m     ^\u001b[0m\n\u001b[1;31mSyntaxError\u001b[0m\u001b[1;31m:\u001b[0m invalid syntax\n"
     ]
    }
   ],
   "source": [
    "class Person(object):\n",
    "    def __init__(self, name, gender):\n",
    "        self.name = name\n",
    "        self.gender = gender\n",
    "    def __str__(self): # 注意参数只有self一个\n",
    "        return '(Person: %s, %s)' % (self.name, self.gender) # _str__用来定义一个实例的print之后的显示格式\n"
   ]
  },
  {
   "cell_type": "raw",
   "metadata": {},
   "source": [
    ">>> p = Person('Bob', 'male')\n",
    ">>> print p\n",
    "(Person: Bob, male)"
   ]
  },
  {
   "cell_type": "markdown",
   "metadata": {},
   "source": [
    "Exercise 2: 对实例进行排序__cmp__()；对同一组类的不同实例进行排序"
   ]
  },
  {
   "cell_type": "code",
   "execution_count": null,
   "metadata": {},
   "outputs": [],
   "source": [
    "class Student(object):\n",
    "    def __init__(self, name, score):\n",
    "        self.name = name\n",
    "        self.score = score\n",
    "    def __str__(self):\n",
    "        return '(%s: %s)' % (self.name, self.score)\n",
    "    __repr__ = __str__\n",
    "\n",
    "    def __cmp__(self, s):  # 利用实例自身的self和传入的实例s的某一属性进行比较排序；可按实例中的任意属性进行排序\n",
    "        if self.name < s.name:\n",
    "            return -1\n",
    "        elif self.name > s.name:\n",
    "            return 1\n",
    "        else:\n",
    "            return 0"
   ]
  },
  {
   "cell_type": "code",
   "execution_count": null,
   "metadata": {},
   "outputs": [],
   "source": [
    ">>> L = [Student('Tim', 99), Student('Bob', 88), Student('Alice', 77)]\n",
    ">>> print sorted(L) # 在实际排序中无需调用该方法 直接用sorted进行排序，但比较的实例需要通过list的形式输入\n",
    "[(Alice: 77), (Bob: 88), (Tim: 99)]"
   ]
  },
  {
   "cell_type": "markdown",
   "metadata": {},
   "source": [
    "请修改 Student 的 __cmp__ 方法，让它按照分数从高到底排序，分数相同的按名字排序:"
   ]
  },
  {
   "cell_type": "code",
   "execution_count": 3,
   "metadata": {
    "collapsed": true
   },
   "outputs": [
    {
     "ename": "TypeError",
     "evalue": "'<' not supported between instances of 'Student' and 'Student'",
     "output_type": "error",
     "traceback": [
      "\u001b[1;31m---------------------------------------------------------------------------\u001b[0m",
      "\u001b[1;31mTypeError\u001b[0m                                 Traceback (most recent call last)",
      "\u001b[1;32m<ipython-input-3-504ec3fc4649>\u001b[0m in \u001b[0;36m<module>\u001b[1;34m\u001b[0m\n\u001b[0;32m     24\u001b[0m \u001b[1;33m\u001b[0m\u001b[0m\n\u001b[0;32m     25\u001b[0m \u001b[0mL\u001b[0m \u001b[1;33m=\u001b[0m \u001b[1;33m[\u001b[0m\u001b[0mStudent\u001b[0m\u001b[1;33m(\u001b[0m\u001b[1;34m'Tim'\u001b[0m\u001b[1;33m,\u001b[0m \u001b[1;36m99\u001b[0m\u001b[1;33m)\u001b[0m\u001b[1;33m,\u001b[0m \u001b[0mStudent\u001b[0m\u001b[1;33m(\u001b[0m\u001b[1;34m'Bob'\u001b[0m\u001b[1;33m,\u001b[0m \u001b[1;36m88\u001b[0m\u001b[1;33m)\u001b[0m\u001b[1;33m,\u001b[0m \u001b[0mStudent\u001b[0m\u001b[1;33m(\u001b[0m\u001b[1;34m'Alice'\u001b[0m\u001b[1;33m,\u001b[0m \u001b[1;36m99\u001b[0m\u001b[1;33m)\u001b[0m\u001b[1;33m]\u001b[0m\u001b[1;33m\u001b[0m\u001b[1;33m\u001b[0m\u001b[0m\n\u001b[1;32m---> 26\u001b[1;33m \u001b[0mprint\u001b[0m \u001b[1;33m(\u001b[0m\u001b[0msorted\u001b[0m\u001b[1;33m(\u001b[0m\u001b[0mL\u001b[0m\u001b[1;33m)\u001b[0m\u001b[1;33m)\u001b[0m\u001b[1;33m\u001b[0m\u001b[1;33m\u001b[0m\u001b[0m\n\u001b[0m",
      "\u001b[1;31mTypeError\u001b[0m: '<' not supported between instances of 'Student' and 'Student'"
     ]
    }
   ],
   "source": [
    "class Student(object):\n",
    "\n",
    "    def __init__(self, name, score):\n",
    "        self.name = name\n",
    "        self.score = score\n",
    "\n",
    "    def __str__(self):\n",
    "        return '(%s: %s)' % (self.name, self.score)\n",
    "\n",
    "    __repr__ = __str__\n",
    "\n",
    "    def __cmp__(self, s):\n",
    "        if self.score > s.score:\n",
    "            return -1\n",
    "        elif self.score < s.score:\n",
    "            return 1\n",
    "        else: # 此时分数相同 则按名字进行排序\n",
    "            if self.name < s.name:\n",
    "                return -1\n",
    "            elif self.name > s.name:\n",
    "                return 1\n",
    "            else:\n",
    "                return 0\n",
    "\n",
    "L = [Student('Tim', 99), Student('Bob', 88), Student('Alice', 99)]\n",
    "print (sorted(L))"
   ]
  },
  {
   "cell_type": "markdown",
   "metadata": {},
   "source": [
    "注：python3 中不可用这种方法！"
   ]
  },
  {
   "cell_type": "markdown",
   "metadata": {},
   "source": [
    "# Exercise 3:__len__()的使用；\n",
    "\n",
    "如果一个类表现得像一个list，要获取有多少个元素，就得用 len() 函数\n",
    "在类中先定义了__len__() 就可以在之后实例中用len()返回长度；返回的是实例某一属性的长度"
   ]
  },
  {
   "cell_type": "code",
   "execution_count": null,
   "metadata": {},
   "outputs": [],
   "source": [
    "class Students(object):\n",
    "    def __init__(self, *args): # args表示可以无限多输入属性值\n",
    "        self.names = args # 把输入的属性值归到names属性下面\n",
    "    def __len__(self): # 定义方法使接下来能够直接调用len()输出长度；只有self一个参数\n",
    "        return len(self.names) # 意思是输出self.names这一属性的长度"
   ]
  },
  {
   "cell_type": "markdown",
   "metadata": {},
   "source": [
    "Plus：\n",
    "*args和**kwargs的区别：\n",
    "*args表示任何多个无名参数，它是一个tuple；**kwargs表示任何多个关键字参数，它是一个dict；\n",
    "并且同时使用*args和**kwargs时，必须*args参数列要在**kwargs前；\n",
    "所以，*args接受的必须是单个值，输出的是tuple；而**kwargs输入的为a=''格式，输出的为字典dic格式\n"
   ]
  },
  {
   "cell_type": "code",
   "execution_count": null,
   "metadata": {},
   "outputs": [],
   "source": [
    "# 另一种创建字典的方法：\n",
    "def kw_dict(**kwargs):\n",
    "        return kwargs # 输出的字典\n",
    "    print kw_dict(a=1,b=2,c=3) == {'a':1, 'b':2, 'c':3}"
   ]
  },
  {
   "cell_type": "markdown",
   "metadata": {},
   "source": [
    "# 例题：\n",
    "\n",
    "# 任意长度的斐波那契数列的编写方法！\n",
    "\n",
    "斐波那契数列是由 0, 1, 1, 2, 3, 5, 8...构成。\n",
    "请编写一个Fib类，Fib(10)表示数列的前10个元素，print Fib(10) 可以打印出数列的前 10 个元素，len(Fib(10))可以正确返回数列的个数10。"
   ]
  },
  {
   "cell_type": "code",
   "execution_count": 37,
   "metadata": {},
   "outputs": [
    {
     "name": "stdout",
     "output_type": "stream",
     "text": [
      "[0, 1, 1, 2, 3, 5, 8, 13, 21, 34]\n",
      "10\n"
     ]
    }
   ],
   "source": [
    "class Fib(object): # class 开头是小写不是大写\n",
    "    def __init__(self, num): # num此时等于输入的数字10 定义了数列的长度\n",
    "        a, b, L = 0, 1, [] # 构建费波纳奥齐数列的头两位和空list；前两项0和1需要先定义\n",
    "        for n in range(num): # for循环构建不同长度的数列list\n",
    "            L.append(a)\n",
    "            a, b = b, a + b # 数列的递归\n",
    "        self.numbers = L # 定义属性 给后续引用 若不用此形式 则无法在类之间进行传递\n",
    "\n",
    "    def __str__(self): # 如果不定义str print f出来的就是一串关于f类的代码而非列表\n",
    "        return str(self.numbers)\n",
    "\n",
    "    def __len__(self):\n",
    "        return len(self.numbers)\n",
    "\n",
    "f = Fib(10)\n",
    "print (f)\n",
    "print (len(f)) # python3中print类的输出要打括号\n",
    "            "
   ]
  },
  {
   "cell_type": "markdown",
   "metadata": {},
   "source": [
    "# Exercise 4: Python中的数学运算（分数）Rational类"
   ]
  },
  {
   "cell_type": "markdown",
   "metadata": {},
   "source": [
    "# 有理数的类表示，构建有理数的格式\n",
    "\n",
    "Rational(): 表示的是有理数（分数）p/q"
   ]
  },
  {
   "cell_type": "code",
   "execution_count": null,
   "metadata": {},
   "outputs": [],
   "source": [
    "class Rational(object):\n",
    "    def __init__(self,p, q): # p表示分子 q表示分母\n",
    "        self.p = p \n",
    "        self.q = q"
   ]
  },
  {
   "cell_type": "markdown",
   "metadata": {},
   "source": [
    "有理数四则运算的实现：(分数的运算)\n",
    "\n",
    "# 加法的实现：__add__"
   ]
  },
  {
   "cell_type": "code",
   "execution_count": 17,
   "metadata": {},
   "outputs": [
    {
     "name": "stdout",
     "output_type": "stream",
     "text": [
      "5/6\n"
     ]
    }
   ],
   "source": [
    "class Rational(object):\n",
    "    def __init__(self,p, q): \n",
    "        self.p = p\n",
    "        self.q = q\n",
    "    def __add__(self, r): # r表示的是另外一个实例 这里需要和另外一个实例计算 可以传入实例！！！\n",
    "        return Rational(self.p*r.q+self.q*r.p, self.q*r.q) # 分子分母拆开分别计算\n",
    "    \n",
    "    def __str__(self):\n",
    "        return '%s/%s' %(self.p, self.q) # 新的p和q结果已经得到 所以不用再写计算式\n",
    "    \n",
    "r1 = Rational(1, 3)\n",
    "r2 = Rational(1, 2)\n",
    "\n",
    "print (r1 + r2) # 已经定义了__add__方法 这里直接用+就可以调用\n",
    "        "
   ]
  },
  {
   "cell_type": "markdown",
   "metadata": {},
   "source": [
    "# 减法 __sub__"
   ]
  },
  {
   "cell_type": "code",
   "execution_count": 16,
   "metadata": {},
   "outputs": [
    {
     "name": "stdout",
     "output_type": "stream",
     "text": [
      "-1/6\n"
     ]
    }
   ],
   "source": [
    "class Rational(object):\n",
    "    def __init__(self,p, q): \n",
    "        self.p = p\n",
    "        self.q = q\n",
    "    def __sub__(self, r): # r表示的是另外一个实例 这里需要和另外一个实例计算 可以传入实例！！！\n",
    "        return Rational(self.p*r.q-self.q*r.p, self.q*r.q) # 分子分母拆开分别计算\n",
    "    \n",
    "    def __str__(self):\n",
    "        return '%s/%s' %(self.p, self.q) # 新的p和q结果已经得到 所以不用再写计算式\n",
    "    \n",
    "r1 = Rational(1, 3)\n",
    "r2 = Rational(1, 2)\n",
    "\n",
    "print (r1 - r2) # 已经定义了__add__方法 这里直接用+就可以调用"
   ]
  },
  {
   "cell_type": "markdown",
   "metadata": {},
   "source": [
    "# 乘法 __mul__"
   ]
  },
  {
   "cell_type": "code",
   "execution_count": 15,
   "metadata": {},
   "outputs": [
    {
     "name": "stdout",
     "output_type": "stream",
     "text": [
      "1/6\n"
     ]
    }
   ],
   "source": [
    "class Rational(object):\n",
    "    def __init__(self,p, q): \n",
    "        self.p = p\n",
    "        self.q = q\n",
    "    def __mul__(self, r): # r表示的是另外一个实例 这里需要和另外一个实例计算 可以传入实例！！！\n",
    "        return Rational(self.p*r.p, self.q*r.q) # 分子分母拆开分别计算\n",
    "    \n",
    "    def __str__(self):\n",
    "        return '%s/%s' %(self.p, self.q) # 新的p和q结果已经得到 所以不用再写计算式\n",
    "    \n",
    "r1 = Rational(1, 3)\n",
    "r2 = Rational(1, 2)\n",
    "\n",
    "print (r1 * r2) # 已经定义了__mul__方法 这里直接用+就可以调用"
   ]
  },
  {
   "cell_type": "markdown",
   "metadata": {},
   "source": [
    "# 除法 __truediv__!!!"
   ]
  },
  {
   "cell_type": "code",
   "execution_count": 19,
   "metadata": {
    "scrolled": true
   },
   "outputs": [
    {
     "name": "stdout",
     "output_type": "stream",
     "text": [
      "2/3\n"
     ]
    }
   ],
   "source": [
    "class Rational(object):\n",
    "    def __init__(self,p, q): \n",
    "        self.p = p\n",
    "        self.q = q\n",
    "    def __truediv__(self, r): # r表示的是另外一个实例 这里需要和另外一个实例计算 可以传入实例！！！\n",
    "        return Rational(self.p*r.q, self.q*r.p) # 分子分母拆开分别计算\n",
    "    \n",
    "    def __str__(self):\n",
    "        return '%s/%s' %(self.p, self.q) # 新的p和q结果已经得到 所以不用再写计算式\n",
    "    \n",
    "r1 = Rational(1, 3)\n",
    "r2 = Rational(1, 2)\n",
    "\n",
    "print (r1 / r2) # 已经定义了__div__方法 这里直接用+就可以调用"
   ]
  },
  {
   "cell_type": "markdown",
   "metadata": {},
   "source": [
    "# Exercise 5: Python 中类型转换（分数有理数转为整数浮点数）\n",
    "\n",
    "让int和float函数对实例正常作用; 让分数可以和整数进行运算"
   ]
  },
  {
   "cell_type": "code",
   "execution_count": 21,
   "metadata": {
    "collapsed": true
   },
   "outputs": [
    {
     "name": "stdout",
     "output_type": "stream",
     "text": [
      "2\n"
     ]
    }
   ],
   "source": [
    "class Rational(object): # 同样可以用来找整数部分！\n",
    "    def __init__(self,p, q): \n",
    "        self.p = p\n",
    "        self.q = q\n",
    "    \n",
    "    def __int__(self):  # 让int正常工作\n",
    "        return self.p // self.q\n",
    "\n",
    "print (int(Rational(9,4)))"
   ]
  },
  {
   "cell_type": "markdown",
   "metadata": {},
   "source": [
    "# 插入float"
   ]
  },
  {
   "cell_type": "code",
   "execution_count": 23,
   "metadata": {},
   "outputs": [
    {
     "name": "stdout",
     "output_type": "stream",
     "text": [
      "2.25\n"
     ]
    }
   ],
   "source": [
    "class Rational(object):\n",
    "    def __init__(self,p, q): \n",
    "        self.p = p\n",
    "        self.q = q\n",
    "    \n",
    "    def __float__(self):  # 让float正常工作\n",
    "        return float(self.p)/self.q # 将其中一个化成float 接下来的计算就为float格式的计算\n",
    "\n",
    "print (float(Rational(9,4)))"
   ]
  },
  {
   "cell_type": "markdown",
   "metadata": {},
   "source": [
    "# Exercise 6：Python 中 @property!!!!"
   ]
  },
  {
   "cell_type": "markdown",
   "metadata": {},
   "source": [
    "类方法中有get()和set()两类\n",
    "get用来读取属性值 set用来判断输入属性值"
   ]
  },
  {
   "cell_type": "markdown",
   "metadata": {},
   "source": [
    "# 例题：\n",
    "\n",
    "如果现在需要设计一个银行类，类中有姓名和金额，其中有几个需要注意的问题，首先要隐藏细节，不能让用户随便修改金额；如果确实要修改金额，则要提供访问访问接口（set/get方法），然后还要避免在操作类的 对象过程中的误操作，比如修改金额传入非法数据，为了保证数据的有效性，要对传入的数据进行判断。"
   ]
  },
  {
   "cell_type": "code",
   "execution_count": null,
   "metadata": {},
   "outputs": [],
   "source": [
    "# 银行类\n",
    "class Account(object):\n",
    "    # 将属性私有，不能随便访问\n",
    "    def __init__(self, name, money):\n",
    "        self.__name = name    # 帐户人姓名\n",
    "        self.__balance = money    # 帐户余额\n",
    "    \n",
    "    # 帐户人姓名，在创建帐户时就已经确定，不允许修改，所以对外不提供姓名的 set 方法\n",
    "    def get_name(self):\n",
    "        return self.__name\n",
    " \n",
    "    # 获取账户余额 不能修改 只用get进行获取\n",
    "    def get_balance(self):\n",
    "        return self.__balance\n",
    "    \n",
    "    # 对余额进行操作和判断 有外界的输入时候才会采用set的方法 用来对外界输入进行判断\n",
    "    def set_balance(self,money):\n",
    "        if isinstance(money, int):\n",
    "            if money >= 0:\n",
    "                self.__balance = money\n",
    "            else:\n",
    "                raise ValueError('输入的金额不正确')\n",
    "        else:\n",
    "            raise ValueError('输入的金额不是数字')\n"
   ]
  },
  {
   "cell_type": "markdown",
   "metadata": {},
   "source": [
    "为什么要使用 set/get 方法操作属性：\n",
    "\n",
    "为了不想让使用者直接操作对象中的属性，要设计成私有属性，当需要对私有属性进行修改时，就要使用set/get方法\n",
    "\n",
    "如何对属性进行数据有效性控制：\n",
    "\n",
    "在set方法中加入判断，如果传入的数据无效，提示出错\n",
    "\n",
    "使用 set/get 方法的好处：\n",
    "\n",
    "1、隐藏实现细节，不想让使用者直接操作对象中的属性，比如金额等，\n",
    "\n",
    "2、为需要修改的属性提供访问接口，即通过set/get接口提供精确的访问控制\n",
    "\n",
    "3、在set方法中对传入的数据有效性进行判断，保证数据有效性\n",
    "\n",
    "既然 set/get 方法是用来操作属性的方法，那么能不能以属性操作的方式来使用呢？在 Python 中，提供了一个叫做 property 的类，通过对这个创建这个类的对象的设置property，在使用对象的私有属性时，可以不在使用属性的函数的调用方式，而像普通的公有属性一样去使用属性，为开发提供便利。"
   ]
  },
  {
   "cell_type": "markdown",
   "metadata": {},
   "source": [
    "@property：在装饰时，写在函数定义的上一行，而且函数定义时set/get方法不需要再加set和get，直接写方法名，举例装饰get  name时"
   ]
  },
  {
   "cell_type": "code",
   "execution_count": null,
   "metadata": {},
   "outputs": [],
   "source": [
    "@property\n",
    "# 这里没有写get_name，而是直接写了name\n",
    "def name(self):\n",
    "    return self.__name # 而这里的内容不变"
   ]
  },
  {
   "cell_type": "markdown",
   "metadata": {},
   "source": [
    "# 需要注意的是在装饰set时，使用格式为@xxx.setter ，xxx要和获取方法名（也不\n",
    "\n",
    "# 用写set）保持一致，如装饰设置set  money时："
   ]
  },
  {
   "cell_type": "code",
   "execution_count": null,
   "metadata": {},
   "outputs": [],
   "source": [
    "@money.setter\n",
    "def money(self, money):\n",
    "      if isinstance(money, int): # 同样的后文还是不变\n",
    "            if money >= 0:\n",
    "                self.__balance = money\n",
    "            else:\n",
    "                raise ValueError('输入的金额不正确')\n",
    "        else:\n",
    "            raise ValueError('输入的金额不是数字')"
   ]
  },
  {
   "cell_type": "markdown",
   "metadata": {},
   "source": [
    "# 请给Student类加一个grade属性，根据 score 计算 A（>=80）、B、C（<60）"
   ]
  },
  {
   "cell_type": "code",
   "execution_count": 27,
   "metadata": {
    "collapsed": true
   },
   "outputs": [
    {
     "name": "stdout",
     "output_type": "stream",
     "text": [
      "C\n",
      "B\n",
      "A\n"
     ]
    }
   ],
   "source": [
    "# 方法一\n",
    "class Student(object):\n",
    "\n",
    "    def __init__(self, name, score):\n",
    "        self.name = name\n",
    "        self.__score = score\n",
    "\n",
    "    @property\n",
    "    def score(self):\n",
    "        return self.__score\n",
    "\n",
    "    @score.setter\n",
    "    def score(self, score):\n",
    "        if score < 0 or score > 100:\n",
    "            raise ValueError('invalid score')\n",
    "        self.__score = score # 此时得到了可以行的score值\n",
    "          \n",
    "    @property\n",
    "    def grade(self):\n",
    "        if self.score >= 80:\n",
    "            return 'A'\n",
    "        elif self.score < 60:\n",
    "            return 'C'\n",
    "        else:\n",
    "            return 'B'\n",
    "\n",
    "s = Student('Bob', 59)\n",
    "print (s.grade)\n",
    "\n",
    "s.score = 60\n",
    "# 如果没有装饰器用到set则无法进行判断 只能输入属性值\n",
    "print (s.grade)\n",
    "\n",
    "s.score = 99\n",
    "print (s.grade)"
   ]
  },
  {
   "cell_type": "code",
   "execution_count": 30,
   "metadata": {
    "collapsed": true
   },
   "outputs": [
    {
     "name": "stdout",
     "output_type": "stream",
     "text": [
      "C\n",
      "B\n",
      "A\n"
     ]
    }
   ],
   "source": [
    "# 方法二 不调用@property\n",
    "class Student(object):\n",
    "\n",
    "    def __init__(self, name, score):\n",
    "        self.name = name\n",
    "        self.__score = score\n",
    "\n",
    "    def get_score(self):\n",
    "        return self.__score\n",
    "\n",
    "    def set_score(self, score):\n",
    "        if score < 0 or score > 100:\n",
    "            raise ValueError('invalid score')\n",
    "        self.__score = score\n",
    "          \n",
    "    def get_grade(self):\n",
    "        if self.__score >= 80:\n",
    "            return 'A'\n",
    "        elif self.__score < 60:\n",
    "            return 'C'\n",
    "        else:\n",
    "            return 'B'\n",
    "\n",
    "s = Student('Bob', 59)\n",
    "print (s.get_grade())\n",
    "\n",
    "s.set_score(60)\n",
    "print (s.get_grade())\n",
    "\n",
    "s.set_score(99)\n",
    "print (s.get_grade())"
   ]
  },
  {
   "cell_type": "markdown",
   "metadata": {},
   "source": [
    "# Exercise 7 python 中的__slots__"
   ]
  },
  {
   "cell_type": "markdown",
   "metadata": {},
   "source": [
    "__slots__用来限制类的属性个数：\n",
    "格式"
   ]
  },
  {
   "cell_type": "code",
   "execution_count": null,
   "metadata": {},
   "outputs": [],
   "source": [
    "class Person(object):\n",
    "\n",
    "    __slots__ = ('name', 'gender')\n",
    "\n",
    "    def __init__(self, name, gender):\n",
    "        self.name = name\n",
    "        self.gender = gender\n",
    "\n",
    "class Student(Person):\n",
    "\n",
    "    __slots__ = ('score') # 除此之外不能再添加其他的属性\n",
    "\n",
    "    def __init__(self, name, gender, score):\n",
    "        super(Student, self).__init__(name, gender)\n",
    "        self.score = score\n",
    "\n",
    "s = Student('Bob', 'male', 59)\n",
    "s.name = 'Tim'\n",
    "s.score = 99\n",
    "print s.score"
   ]
  },
  {
   "cell_type": "markdown",
   "metadata": {},
   "source": [
    "# Exercise 8 __call__的使用"
   ]
  },
  {
   "cell_type": "markdown",
   "metadata": {},
   "source": [
    "__call__可以直接调用实例对象"
   ]
  },
  {
   "cell_type": "markdown",
   "metadata": {},
   "source": [
    "# 例题:直接用__call__调用斐波那契数列 简化"
   ]
  },
  {
   "cell_type": "code",
   "execution_count": 31,
   "metadata": {
    "collapsed": true
   },
   "outputs": [
    {
     "name": "stdout",
     "output_type": "stream",
     "text": [
      "[0, 1, 1, 2, 3, 5, 8, 13, 21, 34]\n",
      "10\n"
     ]
    }
   ],
   "source": [
    "class Fib(object):\n",
    "    def __call__(self, num): # 无需其他输入所以不需要定义__init__\n",
    "        a, b, L = 0, 1, []\n",
    "        for n in range(num):\n",
    "            L.append(a)\n",
    "            a, b = b, a+b\n",
    "        return L # 无需继续传递\n",
    "\n",
    "f = Fib() # 无需其他输入 无需再定义__str__来确保 print输出的正确格式\n",
    "print (f(10))\n",
    "print (len(f(10))) # 此时的实例相当于一个函数 无需定义__len__也可以直接用 len()输出长度"
   ]
  },
  {
   "cell_type": "code",
   "execution_count": null,
   "metadata": {},
   "outputs": [],
   "source": []
  }
 ],
 "metadata": {
  "kernelspec": {
   "display_name": "Python 3",
   "language": "python",
   "name": "python3"
  },
  "language_info": {
   "codemirror_mode": {
    "name": "ipython",
    "version": 3
   },
   "file_extension": ".py",
   "mimetype": "text/x-python",
   "name": "python",
   "nbconvert_exporter": "python",
   "pygments_lexer": "ipython3",
   "version": "3.7.3"
  }
 },
 "nbformat": 4,
 "nbformat_minor": 2
}
