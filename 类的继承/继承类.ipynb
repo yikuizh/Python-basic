{
 "cells": [
  {
   "cell_type": "markdown",
   "metadata": {},
   "source": [
    "Note:\n",
    "super(父类名字,self).__init__(父类有的属性)在子类中用来初始化父类的属性\n",
    "类的继承："
   ]
  },
  {
   "cell_type": "code",
   "execution_count": null,
   "metadata": {},
   "outputs": [],
   "source": [
    "class Student(Person):\n",
    "    def __init__(self, name, gender, score):\n",
    "        super(Student, self).__init__(name, gender)\n",
    "        self.score = score"
   ]
  },
  {
   "cell_type": "markdown",
   "metadata": {},
   "source": [
    "子类格式：先初始化子类，包括所有父类的属性加上新属性，然后用super来initiate父类的属性，最后再加上自己的属性"
   ]
  },
  {
   "cell_type": "markdown",
   "metadata": {},
   "source": [
    "Exercise 1:继承"
   ]
  },
  {
   "cell_type": "code",
   "execution_count": 6,
   "metadata": {},
   "outputs": [
    {
     "name": "stdout",
     "output_type": "stream",
     "text": [
      "Alice\n",
      "English\n"
     ]
    }
   ],
   "source": [
    "class Person(object):\n",
    "    def __init__(self, name, gender):\n",
    "        self.name = name\n",
    "        self.gender = gender\n",
    "class Teacher(Person): # 继承的父类必须要加上父类的名字\n",
    "    def __init__(self, name, gender, course):\n",
    "        super(Teacher, self).__init__(name, gender)\n",
    "        self.course = course\n",
    "\n",
    "t = Teacher('Alice', 'Female', 'English')\n",
    "print (t.name)\n",
    "print (t.course)"
   ]
  },
  {
   "cell_type": "markdown",
   "metadata": {},
   "source": [
    "Exercise 2:\n",
    "Python 中判断变量的类型\n",
    "isinstance()函数的用法，可以判断数据类型也可以用来判断类的类型\n",
    "用法：isinstance(变量,变量类型)，输出TRUE or False"
   ]
  },
  {
   "cell_type": "markdown",
   "metadata": {},
   "source": [
    "Exercsie 3:\n",
    "PYTHON中的多态\n",
    "若子类和父类中都定义有相同的方法，对于每个类调用时会优先调用自身的方法而不是父类"
   ]
  },
  {
   "cell_type": "code",
   "execution_count": null,
   "metadata": {},
   "outputs": [],
   "source": [
    "def who_am_i(x):\n",
    "    print x.whoAmI()\n",
    "\n",
    "p = Person('Tim', 'Male')\n",
    "s = Student('Bob', 'Male', 88)\n",
    "t = Teacher('Alice', 'Female', 'English')\n",
    "\n",
    "who_am_i(p)\n",
    "who_am_i(s)\n",
    "who_am_i(t) # 运行的结果都是自身类的这一个方法"
   ]
  },
  {
   "cell_type": "markdown",
   "metadata": {},
   "source": [
    "Exercise 4:\n",
    "多重继承：可以从多个父类继承\n",
    "不同类型的继承树"
   ]
  },
  {
   "cell_type": "code",
   "execution_count": 5,
   "metadata": {},
   "outputs": [
    {
     "name": "stdout",
     "output_type": "stream",
     "text": [
      "basketball\n"
     ]
    }
   ],
   "source": [
    "# 定义会打篮球的学生，会踢足球的老师\n",
    "# 如果父类中是pass，没有属性则不需要用到super，且没有需要输入的实例化属性，就不需要def __init__\n",
    "class Person(object):\n",
    "    pass\n",
    "\n",
    "class Student(Person):\n",
    "    pass\n",
    "\n",
    "class Teacher(Person):\n",
    "    pass\n",
    "\n",
    "class SkillMixin(object):\n",
    "    pass\n",
    "\n",
    "class BasketballMixin(SkillMixin):\n",
    "    def skill(self):\n",
    "        return 'basketball'\n",
    "\n",
    "class FootballMixin(SkillMixin):\n",
    "    def skill(self):\n",
    "        return 'football'\n",
    "\n",
    "class BStudent(Student,BasketballMixin):\n",
    "    pass\n",
    "\n",
    "class FTeacher(Teacher,FootballMixin):\n",
    "    pass\n",
    "\n",
    "s = BStudent()\n",
    "print (s.skill())"
   ]
  },
  {
   "cell_type": "markdown",
   "metadata": {},
   "source": [
    "Exercise 5:\n",
    "获取对象信息的其他方法：\n",
    "Type()直接获取对象的类型；dir()直接获取实例的所有属性，利用filter()来获取定义的属性，输出的是一个list\n",
    "getattr(实例,属性名字)用来获取实例属性的值；setattr(实例,属性名,添加的属性)用来输入或者修改属性的值"
   ]
  },
  {
   "cell_type": "code",
   "execution_count": 8,
   "metadata": {
    "collapsed": true
   },
   "outputs": [
    {
     "data": {
      "text/plain": [
       "['test', 'str', 'END']"
      ]
     },
     "execution_count": 8,
     "metadata": {},
     "output_type": "execute_result"
    }
   ],
   "source": [
    "# filter()函数的使用\n",
    "# filter()函数接收一个过滤的function和list\n",
    "# 利用strip删除空字符串；当()内为空时，删去空格和几个特殊符号；可以指定删除的内容\n",
    "def is_not_empty(s):\n",
    "    return s and len(s.strip()) > 0 # 删去空字符串\n",
    "list(filter(is_not_empty, ['test', None, '', 'str', '  ', 'END'])) # python3 中filter和map需要用list来wrap"
   ]
  },
  {
   "cell_type": "markdown",
   "metadata": {},
   "source": [
    "希望除了 name和gender 外，可以提供任意额外的关键字参数，并绑定到实例，请修改 Person 的 __init__()定 义，完成该功能："
   ]
  },
  {
   "cell_type": "code",
   "execution_count": 7,
   "metadata": {
    "collapsed": true
   },
   "outputs": [
    {
     "name": "stdout",
     "output_type": "stream",
     "text": [
      "18\n",
      "Python\n"
     ]
    }
   ],
   "source": [
    "class Person(object):\n",
    "    def __init__(self, name, gender, **kw): # **kw可以传入（输入）任意数量的参数\n",
    "        self.name = name\n",
    "        self.gender = gender\n",
    "        for k, v in kw.items(): # kw.items():kw定义的是一个字典，这里用来遍历字典中的所有key和value; python3.5后iteritems变为items\n",
    "            setattr(self, k, v) # 绑定到实例(k,v为字典中的一组key和value)\n",
    "\n",
    "p = Person('Bob', 'Male', age=18, course='Python') # 类中的属性以key和value形式出现，这里同时加入了属性名字和属性值\n",
    "print (p.age)\n",
    "print (p.course)"
   ]
  }
 ],
 "metadata": {
  "kernelspec": {
   "display_name": "Python 3",
   "language": "python",
   "name": "python3"
  },
  "language_info": {
   "codemirror_mode": {
    "name": "ipython",
    "version": 3
   },
   "file_extension": ".py",
   "mimetype": "text/x-python",
   "name": "python",
   "nbconvert_exporter": "python",
   "pygments_lexer": "ipython3",
   "version": "3.7.3"
  }
 },
 "nbformat": 4,
 "nbformat_minor": 2
}
